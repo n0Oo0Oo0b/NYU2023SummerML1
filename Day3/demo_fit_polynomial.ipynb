{
 "cells": [
  {
   "cell_type": "markdown",
   "metadata": {
    "colab_type": "text",
    "id": "N2NAXNEpSTcj"
   },
   "source": [
    "# Fit a Polynomial"
   ]
  },
  {
   "cell_type": "code",
   "execution_count": null,
   "metadata": {
    "colab": {},
    "colab_type": "code",
    "id": "wSar4Pz6giXO",
    "is_executing": true
   },
   "outputs": [],
   "source": [
    "import pandas as pd\n",
    "import matplotlib.pyplot as plt\n",
    "import numpy as np"
   ]
  },
  {
   "cell_type": "code",
   "execution_count": null,
   "metadata": {
    "colab": {
     "base_uri": "https://localhost:8080/",
     "height": 282
    },
    "colab_type": "code",
    "id": "2ny81cLMSE_M",
    "outputId": "865aa399-f292-41b8-dc25-27be739693c1",
    "is_executing": true
   },
   "outputs": [],
   "source": [
    "df = pd.read_csv('polyfit_data.csv')\n",
    "x = df['x'].values\n",
    "y = df['y'].values\n",
    "plt.plot(x,y,'o')\n",
    "plt.xlabel('x')\n",
    "plt.ylabel('y')\n",
    "plt.show()"
   ]
  },
  {
   "cell_type": "markdown",
   "metadata": {},
   "source": [
    "# Exercice :\n",
    "1) Compute the Design matrix :\n",
    "$ \\begin{bmatrix} 1 & x_{1} & x_{1}^2 & \\cdots & x_{1}^M \\\\ 1 & x_{2} &\n",
    "    x_{2}^2 & \\cdots & x_{2}^M \\\\ \\vdots & & \\ddots & & \\vdots \\\\ 1 & x_{N} & x_{N}^2 & \\cdots & x_{N}^M \\end{bmatrix}$\n",
    "\n",
    "2) Compute the Least-Square solution : $\\mathbf{w} = (X^TX)^{-1}X^TY$\n",
    "\n",
    "3) Compute the MSE\n",
    "\n",
    "4) Make a prediction for xplt = np.linspace(0, 5, 100) and plot your polynomial over the data points\n",
    "\n",
    "5) Try to find the \"best\" value for M"
   ]
  },
  {
   "cell_type": "code",
   "execution_count": null,
   "metadata": {
    "colab": {
     "base_uri": "https://localhost:8080/",
     "height": 282
    },
    "colab_type": "code",
    "id": "XwuideM0SQyo",
    "outputId": "72d99d13-7770-46a4-bd5a-df6312b54dab",
    "is_executing": true
   },
   "outputs": [],
   "source": [
    "# Choose any integer value for M\n",
    "M = 3\n",
    "\n",
    "\n",
    "# Function to generate the design matrix\n",
    "def design_matrix(x, m):\n",
    "    # You could use a for-loop or python broadcasting (a for-loop is the easiest choice)\n",
    "    return x[:, None] ** np.arange(m+1)[None, :]\n",
    "\n",
    "\n",
    "# compute the design matrix of x\n",
    "X = design_matrix(x, M)\n",
    "# remember to reshape y to a column vector\n",
    "Y = y.reshape(-1, 1)\n",
    "\n",
    "# Compute w using the least-square solution above (you can use np.linalg.pinv)\n",
    "w = np.linalg.pinv(X) @ Y\n",
    "print((w**2).sum())\n",
    "# Compute the MSE\n",
    "y_hat = X @ w\n",
    "mse = ((y - y_hat) ** 2).mean()\n",
    "print(f\"MSE: {mse:.3}\")"
   ]
  },
  {
   "cell_type": "code",
   "execution_count": null,
   "outputs": [],
   "source": [
    "# Plot the regression/fit\n",
    "plt.plot(x,y,'o')\n",
    "xplt = np.linspace(x.min(), x.max(), 100)\n",
    "yplt = design_matrix(xplt, M) @ w\n",
    "plt.plot(xplt, yplt, '-', linewidth=3)\n",
    "plt.xlabel('x')\n",
    "plt.ylabel('y')\n",
    "plt.show()\n"
   ],
   "metadata": {
    "collapsed": false,
    "is_executing": true
   }
  },
  {
   "cell_type": "markdown",
   "metadata": {},
   "source": [
    "# Bonus :\n",
    "\n",
    "Reproduce your code with sklearn !"
   ]
  },
  {
   "cell_type": "code",
   "execution_count": null,
   "metadata": {
    "colab": {
     "base_uri": "https://localhost:8080/",
     "height": 282
    },
    "colab_type": "code",
    "id": "fhnNe8XoenAb",
    "outputId": "1f9e66e6-4062-4099-b783-ba737d11250d",
    "is_executing": true
   },
   "outputs": [],
   "source": [
    "from sklearn import linear_model\n",
    "\n",
    "# create a regression model\n",
    "reg = linear_model.LinearRegression(fit_intercept=False)\n",
    "\n",
    "# fit the model\n",
    "reg.fit(X, y)\n",
    "\n",
    "# use the model to predict\n",
    "yhat = reg.predict(X)\n",
    "\n",
    "# plot the same as above (use Xplt as input to your model)\n",
    "plt.plot(x, y, 'o')\n",
    "plt.plot(xplt, yplt)"
   ]
  },
  {
   "cell_type": "code",
   "execution_count": null,
   "metadata": {
    "is_executing": true
   },
   "outputs": [],
   "source": [
    "Ms_test = range(1, 21)\n",
    "mse_s = []\n",
    "\n",
    "for M in Ms_test:\n",
    "    X = design_matrix(x, M)\n",
    "\n",
    "    reg = linear_model.LinearRegression(fit_intercept=False)\n",
    "\n",
    "    reg.fit(X, y)\n",
    "\n",
    "    yhat = reg.predict(X)\n",
    "\n",
    "    # plt.figure(figsize=(2, 1))\n",
    "    # plt.title(M)\n",
    "    # plt.plot(x, y, 'o', markersize=2)\n",
    "    # yplt = reg.predict(design_matrix(xplt, M))\n",
    "    # plt.plot(xplt, yplt, '-', linewidth=.5)\n",
    "\n",
    "    mse = ((yhat - y) ** 2).mean()\n",
    "    mse_s.append(mse)\n",
    "    print(f\"{M: 4}:{mse: 10.8f}\")\n"
   ]
  },
  {
   "cell_type": "code",
   "execution_count": null,
   "outputs": [],
   "source": [
    "plt.figure(figsize=(15,10))\n",
    "plt.plot(Ms_test, mse_s, '-x', markersize=10, linewidth=2)\n",
    "plt.yscale('log')\n",
    "plt.xlabel('M')\n",
    "plt.ylabel('mse')\n",
    "plt.show()\n"
   ],
   "metadata": {
    "collapsed": false,
    "is_executing": true
   }
  },
  {
   "cell_type": "code",
   "execution_count": null,
   "outputs": [],
   "source": [],
   "metadata": {
    "collapsed": false,
    "is_executing": true
   }
  }
 ],
 "metadata": {
  "colab": {
   "collapsed_sections": [],
   "include_colab_link": true,
   "name": "Lab_Fit_Polynomial.ipynb",
   "provenance": []
  },
  "kernelspec": {
   "display_name": "Python 3",
   "language": "python",
   "name": "python3"
  },
  "language_info": {
   "codemirror_mode": {
    "name": "ipython",
    "version": 3
   },
   "file_extension": ".py",
   "mimetype": "text/x-python",
   "name": "python",
   "nbconvert_exporter": "python",
   "pygments_lexer": "ipython3",
   "version": "3.7.0"
  },
  "latex_envs": {
   "LaTeX_envs_menu_present": true,
   "autoclose": true,
   "autocomplete": true,
   "bibliofile": "biblio.bib",
   "cite_by": "apalike",
   "current_citInitial": 1,
   "eqLabelWithNumbers": true,
   "eqNumInitial": 1,
   "hotkeys": {
    "equation": "Ctrl-E",
    "itemize": "Ctrl-I"
   },
   "labels_anchors": false,
   "latex_user_defs": false,
   "report_style_numbering": false,
   "user_envs_cfg": false
  }
 },
 "nbformat": 4,
 "nbformat_minor": 1
}
