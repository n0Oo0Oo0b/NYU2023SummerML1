{
 "cells": [
  {
   "cell_type": "markdown",
   "metadata": {
    "colab_type": "text",
    "id": "iNK0ITS8hXrV"
   },
   "source": [
    "# Demo: Overfitting, Weight-Regularization"
   ]
  },
  {
   "cell_type": "code",
   "execution_count": null,
   "metadata": {
    "colab": {
     "base_uri": "https://localhost:8080/",
     "height": 283
    },
    "colab_type": "code",
    "id": "KcSnaL94hXrV",
    "outputId": "a64d6bbe-36c5-4011-e39f-a97f151d1775"
   },
   "outputs": [],
   "source": [
    "import numpy as np\n",
    "import matplotlib.pyplot as plt\n",
    "from sklearn import linear_model\n",
    "%matplotlib inline"
   ]
  },
  {
   "cell_type": "markdown",
   "metadata": {},
   "source": [
    "$w_\\mathrm{new} = w - \\alpha\\nabla J(w)$"
   ]
  },
  {
   "cell_type": "markdown",
   "metadata": {},
   "source": [
    "### Plot polynomial\n",
    "\n",
    "Here we plot the polynomial curve $f(x) = 5x^3 + 4x^2 - 2x - 0.5$."
   ]
  },
  {
   "cell_type": "code",
   "execution_count": null,
   "metadata": {},
   "outputs": [],
   "source": [
    "p = np.array([5,1,-2,-.5]) # true coefficients\n",
    "var = 0.1 # noise variance\n",
    "\n",
    "# we'll take a set of measurements uniformly\n",
    "x = np.linspace(-1,1,25)\n",
    "y_true = np.polyval(p,x)\n",
    "\n",
    "plt.plot(x,y_true)\n",
    "# we can force a scatter plot in plt.plot by making the third argument 'o'\n",
    "plt.plot(x,y_true,'ob',markeredgecolor='black')\n",
    "plt.grid()\n",
    "plt.xlabel('x')\n",
    "plt.ylabel('y')\n",
    "plt.xlim([-1,1])\n",
    "plt.ylim([-3,4])\n",
    "plt.legend(['True Process, y_true','Noisy Measurement, y']);"
   ]
  },
  {
   "cell_type": "code",
   "execution_count": null,
   "metadata": {
    "colab": {
     "base_uri": "https://localhost:8080/",
     "height": 283
    },
    "colab_type": "code",
    "id": "KcSnaL94hXrV",
    "outputId": "a64d6bbe-36c5-4011-e39f-a97f151d1775"
   },
   "outputs": [],
   "source": [
    "nsamp = 25 # number of samples taken\n",
    "p = np.array([5,1,-2,-.5]) # true coefficients\n",
    "var = 0.1 # noise variance\n",
    "\n",
    "# we'll take a set of measurements uniformly\n",
    "x = np.linspace(-1,1,nsamp)\n",
    "y_true = np.polyval(p,x)\n",
    "# noisy measurement, ym. use sqrt(var) as numpy normal standard deviation\n",
    "y = y_true + np.random.normal(0, np.sqrt(var), nsamp)\n",
    "\n",
    "plt.plot(x,y_true)\n",
    "# we can force a scatter plot in plt.plot by making the third argument 'o'\n",
    "plt.plot(x,y,'ob',markeredgecolor='black')\n",
    "plt.grid()\n",
    "plt.xlabel('x')\n",
    "plt.ylabel('y')\n",
    "plt.xlim([-1,1])\n",
    "plt.ylim([-3,4])\n",
    "plt.legend(['True Process, y_true','Noisy Measurement, y']);"
   ]
  },
  {
   "cell_type": "code",
   "execution_count": null,
   "metadata": {
    "colab": {},
    "colab_type": "code",
    "id": "syyXCKIhhXrb"
   },
   "outputs": [],
   "source": [
    "# train test validation split\n",
    "ntrain = 15\n",
    "nval = 5\n",
    "ntest = 5\n",
    "\n",
    "inds = np.random.permutation(nsamp)\n",
    "\n",
    "train_choices = inds[:ntrain]\n",
    "val_choices = inds[ntrain:ntrain+nval]\n",
    "test_choices = inds[ntrain+nval:]\n",
    "\n",
    "xtrain, ytrain = x[train_choices], y[train_choices]\n",
    "xval, yval     = x[val_choices], y[val_choices]\n",
    "xtest, ytest   = x[test_choices], y[test_choices]"
   ]
  },
  {
   "cell_type": "markdown",
   "metadata": {},
   "source": [
    "### Design Matrix\n",
    "\n",
    "We have the design matrix as $D = \\begin{bmatrix}\n",
    "1 & x_1 & x_1^2 & x_1^3 & \\cdots & x_1^{M}\\\\\n",
    "1 & x_2 & x_2^2 & x_2^3 & \\cdots & x_2^{M}\\\\\n",
    "\\vdots & \\vdots & \\vdots & \\vdots & \\ddots & \\vdots\\\\\n",
    "1 & x_n & x_n^2 & x_n^3 & \\cdots & x_n^{M}\n",
    "\\end{bmatrix}$\n",
    "\n",
    "- Complete the design matrix and set M = 25, the shape of the design matrix should be (15, 26)"
   ]
  },
  {
   "cell_type": "code",
   "execution_count": null,
   "metadata": {
    "colab": {
     "base_uri": "https://localhost:8080/",
     "height": 34
    },
    "colab_type": "code",
    "id": "wTKUe2lehXrd",
    "outputId": "d35937d0-b2fc-4b64-b99b-989aebb655cc"
   },
   "outputs": [],
   "source": [
    "def design_matrix(x, m):\n",
    "    return x[:, None] ** np.arange(m+1)[None, :]\n",
    "\n",
    "\n",
    "M = 10\n",
    "Xtrain = design_matrix(xtrain, M)\n",
    "Xval = design_matrix(xval,M)\n",
    "Xtest = design_matrix(xtest,M)\n",
    "print(Xtrain.shape, )"
   ]
  },
  {
   "cell_type": "code",
   "execution_count": 30,
   "outputs": [],
   "source": [
    "def rmse(reg, x, y):\n",
    "    yhat = reg.predict(x)\n",
    "    return np.sqrt((y - yhat) ** 2).mean()\n",
    "\n",
    "\n",
    "def test_regression_model(model_type, plot=False, **kwargs):\n",
    "    if kwargs is None:\n",
    "        kwargs = {}\n",
    "    reg = model_type(**kwargs, fit_intercept=False)\n",
    "    reg.fit(Xtrain, ytrain[:, None])\n",
    "    w = reg.coef_\n",
    "\n",
    "    # RMSEs\n",
    "    train_rmse = rmse(reg, Xtrain, ytrain)\n",
    "    val_rmse = rmse(reg, Xval, yval)\n",
    "    test_rmse = rmse(reg, Xtest, ytest)\n",
    "\n",
    "    # plotting\n",
    "    if plot:\n",
    "        xplt = np.linspace(-1,1,500)\n",
    "        yplt = reg.predict(design_matrix(xplt, M))\n",
    "\n",
    "        plt.figure()\n",
    "        plt.plot(xplt, yplt)\n",
    "        plt.plot(xtrain,ytrain,'x',markeredgecolor='black')\n",
    "        plt.plot(xval,yval,'o',markeredgecolor='black')\n",
    "        plt.xlim([-1.1,1.1])\n",
    "        plt.ylim([-3,4])\n",
    "        plt.legend(['Model','Train Points', 'Validation Points'])\n",
    "        plt.title(model_type.__name__)\n",
    "        plt.show()\n",
    "\n",
    "    return train_rmse, val_rmse, test_rmse, w.flatten()"
   ],
   "metadata": {
    "collapsed": false,
    "ExecuteTime": {
     "end_time": "2023-06-22T20:08:48.813277Z",
     "start_time": "2023-06-22T20:08:48.809022Z"
    }
   }
  },
  {
   "cell_type": "code",
   "execution_count": null,
   "metadata": {
    "colab": {
     "base_uri": "https://localhost:8080/",
     "height": 782
    },
    "colab_type": "code",
    "id": "OaQtjOPHhXrf",
    "outputId": "78dbde94-e417-450a-c72e-802a9b507598"
   },
   "outputs": [],
   "source": [
    "train, val, test, w = test_regression_model(linear_model.LinearRegression, plot=True)\n",
    "print(f\"Train RMSE: {train:.3f}\")\n",
    "print(f\"Validation RMSE: {val:.3f}\")\n",
    "print(f\"Test RMSE: {test:.3f}\")\n",
    "print(w)"
   ]
  },
  {
   "cell_type": "markdown",
   "metadata": {},
   "source": [
    "### weight based regularization\n",
    "\n",
    "- Lasso: L1 norm regularizer $\\displaystyle\\frac{1}{2n_\\mathrm{samples}}\\|y - Xw\\|^2_2 + \\alpha\\|w\\|_1$\n",
    "\n",
    "\n",
    "- Ridge: L2 norm regularizer $\\displaystyle\\|y - Xw\\|^2_2 + \\alpha\\|w\\|^2_2$"
   ]
  },
  {
   "cell_type": "code",
   "execution_count": 33,
   "metadata": {
    "colab": {
     "base_uri": "https://localhost:8080/",
     "height": 780
    },
    "colab_type": "code",
    "id": "KJAgZ3wshXri",
    "outputId": "86574d27-07b6-436f-b5eb-6bcf6222fd64",
    "ExecuteTime": {
     "end_time": "2023-06-22T20:09:32.899445Z",
     "start_time": "2023-06-22T20:09:32.729150Z"
    }
   },
   "outputs": [
    {
     "data": {
      "text/plain": "<Figure size 640x480 with 1 Axes>",
      "image/png": "[encoded data removed]"
     },
     "metadata": {},
     "output_type": "display_data"
    },
    {
     "name": "stdout",
     "output_type": "stream",
     "text": [
      "Train RMSE: 0.410\n",
      "Validation RMSE: 0.413\n",
      "Test RMSE: 0.498\n"
     ]
    },
    {
     "data": {
      "text/plain": "<Figure size 640x480 with 1 Axes>",
      "image/png": "[encoded data removed]"
     },
     "metadata": {},
     "output_type": "display_data"
    },
    {
     "name": "stdout",
     "output_type": "stream",
     "text": [
      "Train RMSE: 1.410\n",
      "Validation RMSE: 0.353\n",
      "Test RMSE: 0.349\n"
     ]
    }
   ],
   "source": [
    "# Using the following models to fit the data\n",
    "# reg = linear_model.Lasso(alpha=.02, fit_intercept=False)\n",
    "# reg = linear_model.Ridge(alpha=.05, fit_intercept=False)\n",
    "train, val, test, w = test_regression_model(linear_model.Lasso, plot=True, alpha=.05)\n",
    "print(f\"Train RMSE: {train:.3f}\")\n",
    "print(f\"Validation RMSE: {val:.3f}\")\n",
    "print(f\"Test RMSE: {test:.3f}\")\n",
    "\n",
    "train, val, test, w = test_regression_model(linear_model.Ridge, plot=True)\n",
    "print(f\"Train RMSE: {train:.3f}\")\n",
    "print(f\"Validation RMSE: {val:.3f}\")\n",
    "print(f\"Test RMSE: {test:.3f}\")\n"
   ]
  },
  {
   "cell_type": "code",
   "execution_count": null,
   "outputs": [],
   "source": [],
   "metadata": {
    "collapsed": false
   }
  }
 ],
 "metadata": {
  "colab": {
   "name": "lab_overfitting_regularization.ipynb",
   "provenance": []
  },
  "kernelspec": {
   "display_name": "Python 3",
   "language": "python",
   "name": "python3"
  },
  "language_info": {
   "codemirror_mode": {
    "name": "ipython",
    "version": 3
   },
   "file_extension": ".py",
   "mimetype": "text/x-python",
   "name": "python",
   "nbconvert_exporter": "python",
   "pygments_lexer": "ipython3",
   "version": "3.7.0"
  },
  "latex_envs": {
   "LaTeX_envs_menu_present": true,
   "autoclose": true,
   "autocomplete": true,
   "bibliofile": "biblio.bib",
   "cite_by": "apalike",
   "current_citInitial": 1,
   "eqLabelWithNumbers": true,
   "eqNumInitial": 1,
   "hotkeys": {
    "equation": "Ctrl-E",
    "itemize": "Ctrl-I"
   },
   "labels_anchors": false,
   "latex_user_defs": false,
   "report_style_numbering": false,
   "user_envs_cfg": false
  }
 },
 "nbformat": 4,
 "nbformat_minor": 1
}
