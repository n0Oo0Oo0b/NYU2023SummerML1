{
 "cells": [
  {
   "cell_type": "code",
   "execution_count": 1,
   "metadata": {
    "ExecuteTime": {
     "end_time": "2023-06-21T14:08:48.499293Z",
     "start_time": "2023-06-21T14:08:48.258784Z"
    }
   },
   "outputs": [],
   "source": [
    "import numpy as np\n",
    "import time"
   ]
  },
  {
   "cell_type": "markdown",
   "metadata": {},
   "source": [
    "## Find the sum of a list of numbers\n",
    "- Use a for loop\n",
    "- Use np.sum()"
   ]
  },
  {
   "cell_type": "code",
   "execution_count": 14,
   "metadata": {
    "ExecuteTime": {
     "end_time": "2023-06-21T14:16:53.243662Z",
     "start_time": "2023-06-21T14:16:49.014062Z"
    }
   },
   "outputs": [
    {
     "name": "stdout",
     "output_type": "stream",
     "text": [
      "30.2 ms ± 2.11 ms per loop (mean ± std. dev. of 7 runs, 20 loops each)\n"
     ]
    }
   ],
   "source": [
    "%%timeit -n 20\n",
    "nums = [1] * 1_000_000\n",
    "\n",
    "sum_val = 0\n",
    "for i in range(1_000_000):\n",
    "    sum_val += nums[i]\n"
   ]
  },
  {
   "cell_type": "code",
   "execution_count": 13,
   "outputs": [
    {
     "name": "stdout",
     "output_type": "stream",
     "text": [
      "933 µs ± 171 µs per loop (mean ± std. dev. of 7 runs, 20 loops each)\n"
     ]
    }
   ],
   "source": [
    "%%timeit -n 20\n",
    "nums = np.ones(1_000_000)\n",
    "\n",
    "sum_val = np.sum(nums)"
   ],
   "metadata": {
    "collapsed": false,
    "ExecuteTime": {
     "end_time": "2023-06-21T14:16:47.188719Z",
     "start_time": "2023-06-21T14:16:47.055657Z"
    }
   }
  },
  {
   "cell_type": "markdown",
   "metadata": {},
   "source": [
    "## Find the maximum value in an array\n",
    "- Use a for loop\n",
    "- Use np.amax()"
   ]
  },
  {
   "cell_type": "code",
   "execution_count": 8,
   "metadata": {},
   "outputs": [
    {
     "data": {
      "text/plain": [
       "array([73928, 44441, 44348, ..., 19766, 86638, 60231])"
      ]
     },
     "execution_count": 8,
     "metadata": {},
     "output_type": "execute_result"
    }
   ],
   "source": [
    "list_of_nums = np.arange(100000)\n",
    "np.random.shuffle(list_of_nums)\n",
    "list_of_nums"
   ]
  },
  {
   "cell_type": "code",
   "execution_count": 9,
   "metadata": {},
   "outputs": [
    {
     "name": "stdout",
     "output_type": "stream",
     "text": [
      "Using a for loop it took 0.028573036193847656s and the maximum value is 99999\n",
      "Using np.sum() it took 0.00026535987854003906s and the maximum value is 99999\n",
      "np.amax() is 107.6765498652291 times faster\n"
     ]
    }
   ],
   "source": [
    "# For loop\n",
    "tic = time.time()\n",
    "max_val = -1\n",
    "\n",
    "for i in range(100000):\n",
    "    if list_of_nums[i] > max_val:\n",
    "        max_val = list_of_nums[i]\n",
    "\n",
    "toc = time.time()\n",
    "for_loop_time = toc - tic\n",
    "print('Using a for loop it took {}s and the maximum value is {}'.format(for_loop_time, max_val))\n",
    "\n",
    "# Using numpy.amax()\n",
    "tic = time.time()\n",
    "max_val = np.amax(list_of_nums)\n",
    "toc = time.time()\n",
    "\n",
    "np_sum_time = toc - tic\n",
    "\n",
    "print('Using np.sum() it took {}s and the maximum value is {}'.format(np_sum_time, max_val))\n",
    "\n",
    "print('np.amax() is {} times faster'.format(for_loop_time/np_sum_time))"
   ]
  },
  {
   "cell_type": "markdown",
   "metadata": {},
   "source": [
    "## Add two vectors\n",
    "- Use a for loop\n",
    "- directly add two vectors"
   ]
  },
  {
   "cell_type": "code",
   "execution_count": 11,
   "metadata": {},
   "outputs": [
    {
     "name": "stdout",
     "output_type": "stream",
     "text": [
      "Using a for loop it took 0.15001702308654785s\n",
      "Using np.sum() it took 0.00061798095703125s\n",
      "Vectorize adding is 242.75347222222223 times faster\n"
     ]
    }
   ],
   "source": [
    "list_of_nums1 = np.arange(100000)\n",
    "list_of_nums2 = np.arange(100000)\n",
    "\n",
    "# For loop\n",
    "tic = time.time()\n",
    "sol = np.empty((100000, 1))\n",
    "\n",
    "for i in range(100000):\n",
    "    sol[i] = list_of_nums1[i] + list_of_nums2[i]\n",
    "\n",
    "toc = time.time()\n",
    "\n",
    "for_loop_time = toc - tic\n",
    "print('Using a for loop it took {}s'.format(for_loop_time))\n",
    "\n",
    "# Vectorize adding\n",
    "tic = time.time()\n",
    "sol = list_of_nums1 + list_of_nums2\n",
    "toc = time.time()\n",
    "\n",
    "vec_time = toc - tic\n",
    "print('Using np.sum() it took {}s'.format(vec_time))\n",
    "\n",
    "print('Vectorize adding is {} times faster'.format(for_loop_time/vec_time))"
   ]
  },
  {
   "cell_type": "code",
   "execution_count": 15,
   "metadata": {
    "ExecuteTime": {
     "end_time": "2023-06-21T14:22:00.340837Z",
     "start_time": "2023-06-21T14:22:00.323618Z"
    }
   },
   "outputs": [
    {
     "data": {
      "text/plain": "array([                  0,                   0,                1568,\n                5235653632,                8192,                   0,\n                         0,                  35,                   0,\n            35871566856192, 5572452859464646656,                   0,\n                         0,                  -1,    -105553117233217,\n       5572452860762084442,     105553117233288,                   0,\n                         0,                   0])"
     },
     "execution_count": 15,
     "metadata": {},
     "output_type": "execute_result"
    }
   ],
   "source": [
    "np.empty([20], int)\n"
   ]
  },
  {
   "cell_type": "code",
   "execution_count": 111,
   "outputs": [],
   "source": [
    "import random\n"
   ],
   "metadata": {
    "collapsed": false,
    "ExecuteTime": {
     "end_time": "2023-06-21T15:13:33.979621Z",
     "start_time": "2023-06-21T15:13:33.974740Z"
    }
   }
  },
  {
   "cell_type": "code",
   "execution_count": 144,
   "outputs": [
    {
     "name": "stdout",
     "output_type": "stream",
     "text": [
      "4550958256\n"
     ]
    }
   ],
   "source": [
    "x = np.zeros(10)\n",
    "print(id(x))\n",
    "del x\n"
   ],
   "metadata": {
    "collapsed": false,
    "ExecuteTime": {
     "end_time": "2023-06-21T15:16:09.139283Z",
     "start_time": "2023-06-21T15:16:09.135891Z"
    }
   }
  },
  {
   "cell_type": "code",
   "execution_count": 156,
   "outputs": [
    {
     "name": "stdout",
     "output_type": "stream",
     "text": [
      "[8 0 0 2 5 0 0 0 7 5]\n",
      "4548928368\n"
     ]
    }
   ],
   "source": [
    "a = np.empty(10, int)\n",
    "a[np.random.randint(0, 10)] = np.random.randint(0, 10)\n",
    "print(a)\n",
    "print(id(a))\n",
    "del a\n"
   ],
   "metadata": {
    "collapsed": false,
    "ExecuteTime": {
     "end_time": "2023-06-21T15:16:21.825527Z",
     "start_time": "2023-06-21T15:16:21.822655Z"
    }
   }
  },
  {
   "cell_type": "code",
   "execution_count": null,
   "outputs": [],
   "source": [],
   "metadata": {
    "collapsed": false
   }
  }
 ],
 "metadata": {
  "kernelspec": {
   "name": "python3",
   "language": "python",
   "display_name": "Python 3 (ipykernel)"
  },
  "language_info": {
   "codemirror_mode": {
    "name": "ipython",
    "version": 3
   },
   "file_extension": ".py",
   "mimetype": "text/x-python",
   "name": "python",
   "nbconvert_exporter": "python",
   "pygments_lexer": "ipython3",
   "version": "3.7.0"
  },
  "latex_envs": {
   "LaTeX_envs_menu_present": true,
   "autoclose": true,
   "autocomplete": true,
   "bibliofile": "biblio.bib",
   "cite_by": "apalike",
   "current_citInitial": 1,
   "eqLabelWithNumbers": true,
   "eqNumInitial": 1,
   "hotkeys": {
    "equation": "Ctrl-E",
    "itemize": "Ctrl-I"
   },
   "labels_anchors": false,
   "latex_user_defs": false,
   "report_style_numbering": false,
   "user_envs_cfg": false
  }
 },
 "nbformat": 4,
 "nbformat_minor": 2
}
